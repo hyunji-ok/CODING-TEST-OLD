{
  "nbformat": 4,
  "nbformat_minor": 0,
  "metadata": {
    "colab": {
      "name": "정수 삼각형.ipynb",
      "private_outputs": true,
      "provenance": [],
      "collapsed_sections": [],
      "authorship_tag": "ABX9TyMJMV4a35TqUZmSIAdfxpCS",
      "include_colab_link": true
    },
    "kernelspec": {
      "name": "python3",
      "display_name": "Python 3"
    },
    "language_info": {
      "name": "python"
    }
  },
  "cells": [
    {
      "cell_type": "markdown",
      "metadata": {
        "id": "view-in-github",
        "colab_type": "text"
      },
      "source": [
        "<a href=\"https://colab.research.google.com/github/hyunji-ok/CODING-TEST/blob/master/programmers/python3/level3/%EC%A0%95%EC%88%98_%EC%82%BC%EA%B0%81%ED%98%95.ipynb\" target=\"_parent\"><img src=\"https://colab.research.google.com/assets/colab-badge.svg\" alt=\"Open In Colab\"/></a>"
      ]
    },
    {
      "cell_type": "code",
      "metadata": {
        "id": "kDJcnL5WMGQF"
      },
      "source": [
        "def solution(triangle):\n",
        "    for i in range(1,len(triangle)):\n",
        "        for j in range(len(triangle[i])):\n",
        "            if j==0:\n",
        "                triangle[i][j]+=triangle[i-1][j]\n",
        "            elif i==j:\n",
        "                triangle[i][j]+=triangle[i-1][j-1]\n",
        "            else:\n",
        "                triangle[i][j]+=max(triangle[i-1][j],triangle[i-1][j-1])\n",
        "        \n",
        "    return max(triangle[-1])"
      ],
      "execution_count": null,
      "outputs": []
    }
  ]
}