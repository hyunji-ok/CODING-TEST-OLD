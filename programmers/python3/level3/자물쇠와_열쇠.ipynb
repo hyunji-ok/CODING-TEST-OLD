{
  "nbformat": 4,
  "nbformat_minor": 0,
  "metadata": {
    "colab": {
      "name": "자물쇠와 열쇠.ipynb",
      "private_outputs": true,
      "provenance": [],
      "collapsed_sections": [],
      "authorship_tag": "ABX9TyN/VwCuRjHcF7OLf/5G0nvB",
      "include_colab_link": true
    },
    "kernelspec": {
      "name": "python3",
      "display_name": "Python 3"
    },
    "language_info": {
      "name": "python"
    }
  },
  "cells": [
    {
      "cell_type": "markdown",
      "metadata": {
        "id": "view-in-github",
        "colab_type": "text"
      },
      "source": [
        "<a href=\"https://colab.research.google.com/github/hyunji-ok/CODING-TEST/blob/master/programmers/python3/level3/%EC%9E%90%EB%AC%BC%EC%87%A0%EC%99%80_%EC%97%B4%EC%87%A0.ipynb\" target=\"_parent\"><img src=\"https://colab.research.google.com/assets/colab-badge.svg\" alt=\"Open In Colab\"/></a>"
      ]
    },
    {
      "cell_type": "code",
      "metadata": {
        "id": "3eWOyr7t4aEj"
      },
      "source": [
        "def attach(x, y, M, key, board):\n",
        "    for i in range(M):\n",
        "        for j in range(M):\n",
        "            board[x+i][y+j] += key[i][j]\n",
        "\n",
        "def detach(x, y, M, key, board):\n",
        "    for i in range(M):\n",
        "        for j in range(M):\n",
        "            board[x+i][y+j] -= key[i][j]\n",
        "\n",
        "def rotate90(arr):\n",
        "    return list(zip(*arr[::-1]))\n",
        "\n",
        "def check(board, M, N):\n",
        "    for i in range(N):\n",
        "        for j in range(N):\n",
        "            if board[M+i][M+j] != 1:\n",
        "                return False;\n",
        "    return True\n",
        "\n",
        "def solution(key, lock):\n",
        "    M, N = len(key), len(lock)\n",
        "\n",
        "    board = [[0] * (M*2 + N) for _ in range(M*2 + N)]\n",
        "    # 자물쇠 중앙 배치\n",
        "    for i in range(N):\n",
        "        for j in range(N):\n",
        "            board[M+i][M+j] = lock[i][j]\n",
        "\n",
        "    rotated_key = key\n",
        "    # 모든 방향 (4번 루프)\n",
        "    for _ in range(4):\n",
        "        rotated_key = rotate90(rotated_key)\n",
        "        for x in range(1, M+N):\n",
        "            for y in range(1, M+N):\n",
        "                # 열쇠 넣어보기\n",
        "                attach(x, y, M, rotated_key, board)\n",
        "                # lock 가능 check\n",
        "                if(check(board, M, N)):\n",
        "                    return True\n",
        "                # 열쇠 빼기\n",
        "                detach(x, y, M, rotated_key, board)\n",
        "                \n",
        "    return False"
      ],
      "execution_count": null,
      "outputs": []
    }
  ]
}