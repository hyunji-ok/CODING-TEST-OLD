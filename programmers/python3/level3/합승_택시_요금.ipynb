{
  "nbformat": 4,
  "nbformat_minor": 0,
  "metadata": {
    "colab": {
      "name": "합승 택시 요금.ipynb",
      "private_outputs": true,
      "provenance": [],
      "collapsed_sections": [],
      "authorship_tag": "ABX9TyMR98qqLIQQ+vA5CGrsDtE3",
      "include_colab_link": true
    },
    "kernelspec": {
      "name": "python3",
      "display_name": "Python 3"
    },
    "language_info": {
      "name": "python"
    }
  },
  "cells": [
    {
      "cell_type": "markdown",
      "metadata": {
        "id": "view-in-github",
        "colab_type": "text"
      },
      "source": [
        "<a href=\"https://colab.research.google.com/github/hyunji-ok/CODING-TEST/blob/master/programmers/python3/level3/%ED%95%A9%EC%8A%B9_%ED%83%9D%EC%8B%9C_%EC%9A%94%EA%B8%88.ipynb\" target=\"_parent\"><img src=\"https://colab.research.google.com/assets/colab-badge.svg\" alt=\"Open In Colab\"/></a>"
      ]
    },
    {
      "cell_type": "code",
      "metadata": {
        "id": "i6cN_d_8IujN"
      },
      "source": [
        "import heapq\n",
        "\n",
        "def solution(n, s, a, b, fares):\n",
        "    link = [[] for _ in range(n+1)]\n",
        "    \n",
        "    for x,y,z in fares:\n",
        "        link[x].append([z,y])\n",
        "        link[y].append([z,x])\n",
        "        \n",
        "    def dijkstra(start):\n",
        "        dist = [987654321]*(n+1)\n",
        "        dist[start]=0\n",
        "        heap = []\n",
        "        heapq.heappush(heap, [0, start])\n",
        "        \n",
        "        while heap:\n",
        "            value, des = heapq.heappop(heap)\n",
        "            \n",
        "            if dist[des] < value:\n",
        "                continue\n",
        "                \n",
        "            for v,d in link[des]:\n",
        "                next_value = value+v\n",
        "                if dist[d] > next_value:\n",
        "                    dist[d] = next_value\n",
        "                    heapq.heappush(heap, [next_value, d])\n",
        "        \n",
        "        return dist\n",
        "    \n",
        "    dp = [[]] + [dijkstra(i) for i in range(1, n+1)]\n",
        "    answer = 987654321\n",
        "    \n",
        "    for i in range(1, n+1):\n",
        "        answer = min(dp[i][a]+dp[i][b]+dp[i][s], answer)\n",
        "    \n",
        "    return answer"
      ],
      "execution_count": null,
      "outputs": []
    }
  ]
}