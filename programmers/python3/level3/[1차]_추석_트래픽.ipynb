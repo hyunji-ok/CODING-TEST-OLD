{
  "nbformat": 4,
  "nbformat_minor": 0,
  "metadata": {
    "colab": {
      "name": "[1차] 추석 트래픽.ipynb",
      "private_outputs": true,
      "provenance": [],
      "collapsed_sections": [],
      "authorship_tag": "ABX9TyPixzepvuINxo0xjwUcqPoP",
      "include_colab_link": true
    },
    "kernelspec": {
      "name": "python3",
      "display_name": "Python 3"
    },
    "language_info": {
      "name": "python"
    }
  },
  "cells": [
    {
      "cell_type": "markdown",
      "metadata": {
        "id": "view-in-github",
        "colab_type": "text"
      },
      "source": [
        "<a href=\"https://colab.research.google.com/github/hyunji-ok/CODING-TEST/blob/master/programmers/python3/level3/%5B1%EC%B0%A8%5D_%EC%B6%94%EC%84%9D_%ED%8A%B8%EB%9E%98%ED%94%BD.ipynb\" target=\"_parent\"><img src=\"https://colab.research.google.com/assets/colab-badge.svg\" alt=\"Open In Colab\"/></a>"
      ]
    },
    {
      "cell_type": "code",
      "metadata": {
        "id": "dZKQQqQRaA-Q"
      },
      "source": [
        "def check(time, li):\n",
        "    c = 0\n",
        "    start = time\n",
        "    end = time + 1000\n",
        "    for i in li:\n",
        "        if start<=i[1] and i[0]<end:\n",
        "            c +=1\n",
        "    return c\n",
        "\n",
        "def solution(lines):\n",
        "    answer = 0\n",
        "    li = []\n",
        "    \n",
        "    for i in lines:\n",
        "        date, time, process = i.split(\" \")\n",
        "        time = time.split(\":\")\n",
        "        process = float(process.replace(\"s\",\"\")) * 1000\n",
        "        end = (int(time[0]) * 3600 + int(time[1]) * 60 + float(time[2])) * 1000\n",
        "        start = end - (process-1)\n",
        "        li.append([start,end])\n",
        "    \n",
        "    for i in li:\n",
        "        answer = max(answer, check(i[0], li), check(i[1], li))\n",
        "               \n",
        "    return answer\n",
        "\n",
        "lines = [\n",
        "\"2016-09-15 20:59:57.421 0.351s\",\n",
        "\"2016-09-15 20:59:58.233 1.181s\",\n",
        "\"2016-09-15 20:59:58.299 0.8s\",\n",
        "\"2016-09-15 20:59:58.688 1.041s\",\n",
        "\"2016-09-15 20:59:59.591 1.412s\",\n",
        "\"2016-09-15 21:00:00.464 1.466s\",\n",
        "\"2016-09-15 21:00:00.741 1.581s\",\n",
        "\"2016-09-15 21:00:00.748 2.31s\",\n",
        "\"2016-09-15 21:00:00.966 0.381s\",\n",
        "\"2016-09-15 21:00:02.066 2.62s\"\n",
        "]\n",
        "\n",
        "solution(lines)"
      ],
      "execution_count": null,
      "outputs": []
    }
  ]
}