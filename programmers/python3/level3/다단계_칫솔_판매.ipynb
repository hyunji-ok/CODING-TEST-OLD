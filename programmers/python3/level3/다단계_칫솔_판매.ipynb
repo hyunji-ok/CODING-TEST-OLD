{
  "nbformat": 4,
  "nbformat_minor": 0,
  "metadata": {
    "colab": {
      "name": "다단계 칫솔 판매.ipynb",
      "private_outputs": true,
      "provenance": [],
      "collapsed_sections": [],
      "authorship_tag": "ABX9TyNyUk0EvF2K7HaY7hDZpQSd",
      "include_colab_link": true
    },
    "kernelspec": {
      "name": "python3",
      "display_name": "Python 3"
    },
    "language_info": {
      "name": "python"
    }
  },
  "cells": [
    {
      "cell_type": "markdown",
      "metadata": {
        "id": "view-in-github",
        "colab_type": "text"
      },
      "source": [
        "<a href=\"https://colab.research.google.com/github/hyunji-ok/CODING-TEST/blob/master/programmers/python3/level3/%EB%8B%A4%EB%8B%A8%EA%B3%84_%EC%B9%AB%EC%86%94_%ED%8C%90%EB%A7%A4.ipynb\" target=\"_parent\"><img src=\"https://colab.research.google.com/assets/colab-badge.svg\" alt=\"Open In Colab\"/></a>"
      ]
    },
    {
      "cell_type": "code",
      "metadata": {
        "id": "gBWpflPOOJDo"
      },
      "source": [
        "def solution(enroll, referral, seller, amount):\n",
        "    answer = []\n",
        "    tree = {\"-\": \"root\"}\n",
        "    sell = {\"-\": 0}\n",
        "    \n",
        "    for i in range(len(enroll)):\n",
        "        child = enroll[i]\n",
        "        parent = referral[i]\n",
        "        tree[child] = parent\n",
        "        sell[child] = 0\n",
        "        \n",
        "    for i in range(len(seller)):\n",
        "        child = seller[i]\n",
        "        parent = tree[child]\n",
        "        money = amount[i] * 100\n",
        "        sell[child] += money\n",
        "        while True:\n",
        "            commission = money // 10\n",
        "            if commission == 0:\n",
        "                break\n",
        "            sell[child] -= commission\n",
        "            sell[parent] += commission\n",
        "            child = parent\n",
        "            parent = tree[child]\n",
        "            money = commission\n",
        "            if parent == \"root\":\n",
        "                break\n",
        "                \n",
        "    answer = list(sell.values())[1:]\n",
        "    \n",
        "    return answer"
      ],
      "execution_count": null,
      "outputs": []
    }
  ]
}