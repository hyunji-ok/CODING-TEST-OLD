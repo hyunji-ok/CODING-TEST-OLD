{
  "nbformat": 4,
  "nbformat_minor": 0,
  "metadata": {
    "colab": {
      "name": "표 편집.ipynb",
      "private_outputs": true,
      "provenance": [],
      "collapsed_sections": [],
      "authorship_tag": "ABX9TyM2tn/BprPvEGEEuEp2DnHX",
      "include_colab_link": true
    },
    "kernelspec": {
      "name": "python3",
      "display_name": "Python 3"
    },
    "language_info": {
      "name": "python"
    }
  },
  "cells": [
    {
      "cell_type": "markdown",
      "metadata": {
        "id": "view-in-github",
        "colab_type": "text"
      },
      "source": [
        "<a href=\"https://colab.research.google.com/github/hyunji-ok/CODING-TEST/blob/master/programmers/python3/level3/%ED%91%9C_%ED%8E%B8%EC%A7%91.ipynb\" target=\"_parent\"><img src=\"https://colab.research.google.com/assets/colab-badge.svg\" alt=\"Open In Colab\"/></a>"
      ]
    },
    {
      "cell_type": "code",
      "metadata": {
        "id": "0IXCQNORauzy"
      },
      "source": [
        "def solution(n, k, cmd):\n",
        "    answer = ''\n",
        "\n",
        "    linked_list = {i: [i - 1, i + 1] for i in range(1, n+1)} #n=8일때 1~8까지\n",
        "    OX = [\"O\" for i in range(1,n+1)]\n",
        "    stack = []\n",
        "\n",
        "    k += 1\n",
        "\n",
        "    for c in cmd:\n",
        "        if c[0] == 'D':\n",
        "            for _ in range(int(c[2:])):\n",
        "                k = linked_list[k][1]\n",
        "        elif c[0] == 'U':\n",
        "            for _ in range(int(c[2:])):\n",
        "                k = linked_list[k][0]\n",
        "        elif c[0] == 'C':\n",
        "            prev, next = linked_list[k]\n",
        "            stack.append([prev, next, k])\n",
        "            OX[k-1] = \"X\"\n",
        "\n",
        "            if next == n+1:\n",
        "                k = linked_list[k][0]\n",
        "            else:\n",
        "                k = linked_list[k][1]\n",
        "\n",
        "            if prev == 0:\n",
        "                linked_list[next][0] = prev\n",
        "            elif next == n+1:\n",
        "                linked_list[prev][1] = next\n",
        "            else:\n",
        "                linked_list[prev][1] = next\n",
        "                linked_list[next][0] = prev\n",
        "\n",
        "        elif c[0] == 'Z':\n",
        "            prev, next, now = stack.pop()\n",
        "            OX[now-1] = \"O\"\n",
        "\n",
        "            if prev == 0:\n",
        "                linked_list[next][0] = now\n",
        "            elif next == n+1:\n",
        "                linked_list[prev][1] = now\n",
        "            else:\n",
        "                linked_list[prev][1] = now\n",
        "                linked_list[next][0] = now\n",
        "\n",
        "    return \"\".join(OX)"
      ],
      "execution_count": null,
      "outputs": []
    }
  ]
}