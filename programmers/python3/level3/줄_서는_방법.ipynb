{
  "nbformat": 4,
  "nbformat_minor": 0,
  "metadata": {
    "colab": {
      "name": "줄 서는 방법.ipynb",
      "private_outputs": true,
      "provenance": [],
      "collapsed_sections": [],
      "authorship_tag": "ABX9TyPMzrJerzb8gYcFbKCDpMAG",
      "include_colab_link": true
    },
    "kernelspec": {
      "name": "python3",
      "display_name": "Python 3"
    },
    "language_info": {
      "name": "python"
    }
  },
  "cells": [
    {
      "cell_type": "markdown",
      "metadata": {
        "id": "view-in-github",
        "colab_type": "text"
      },
      "source": [
        "<a href=\"https://colab.research.google.com/github/hyunji-ok/CODING-TEST/blob/master/programmers/python3/level3/%EC%A4%84_%EC%84%9C%EB%8A%94_%EB%B0%A9%EB%B2%95.ipynb\" target=\"_parent\"><img src=\"https://colab.research.google.com/assets/colab-badge.svg\" alt=\"Open In Colab\"/></a>"
      ]
    },
    {
      "cell_type": "code",
      "execution_count": null,
      "metadata": {
        "id": "fLtp5iuEP9xg"
      },
      "outputs": [],
      "source": [
        "import math\n",
        "\n",
        "def solution(n, k):\n",
        "    answer = []\n",
        "    num_list = [i for i in range(1,n+1)]\n",
        "    while n != 0:\n",
        "        \n",
        "        temp = math.factorial(n-1)\n",
        "        q,r = divmod(k, temp)\n",
        "        if r == 0:\n",
        "            answer.append(num_list.pop(q-1))\n",
        "        else:\n",
        "            answer.append(num_list.pop(q))\n",
        "        \n",
        "        k=r\n",
        "        n -=1\n",
        "    \n",
        "    \n",
        "    return answer"
      ]
    }
  ]
}