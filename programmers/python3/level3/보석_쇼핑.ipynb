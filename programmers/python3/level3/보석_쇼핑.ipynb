{
  "nbformat": 4,
  "nbformat_minor": 0,
  "metadata": {
    "colab": {
      "name": "보석 쇼핑.ipynb",
      "private_outputs": true,
      "provenance": [],
      "collapsed_sections": [],
      "authorship_tag": "ABX9TyMDzFmXCcfFUb1eGeKHOv3V",
      "include_colab_link": true
    },
    "kernelspec": {
      "name": "python3",
      "display_name": "Python 3"
    },
    "language_info": {
      "name": "python"
    }
  },
  "cells": [
    {
      "cell_type": "markdown",
      "metadata": {
        "id": "view-in-github",
        "colab_type": "text"
      },
      "source": [
        "<a href=\"https://colab.research.google.com/github/hyunji-ok/CODING-TEST/blob/master/programmers/python3/level3/%EB%B3%B4%EC%84%9D_%EC%87%BC%ED%95%91.ipynb\" target=\"_parent\"><img src=\"https://colab.research.google.com/assets/colab-badge.svg\" alt=\"Open In Colab\"/></a>"
      ]
    },
    {
      "cell_type": "code",
      "metadata": {
        "id": "6BO2J6W97a2y"
      },
      "source": [
        "from collections import defaultdict\n",
        "\n",
        "def solution(gems):\n",
        "    answer = []\n",
        "    check_dic = defaultdict(int)\n",
        "    shortest = len(gems)+1\n",
        "    \n",
        "    check_len = len(set(gems))\n",
        "    gems.insert(0, \"\")\n",
        "    \n",
        "    start_p = 1\n",
        "    end_p = 1\n",
        "    \n",
        "    while end_p < len(gems):\n",
        "        \n",
        "        check_dic[gems[end_p]] +=1\n",
        "        \n",
        "        if len(check_dic) == check_len:\n",
        "            while start_p <= end_p:\n",
        "                if check_dic[gems[start_p]] > 1:\n",
        "                    check_dic[gems[start_p]] -= 1\n",
        "                    start_p += 1\n",
        "                    \n",
        "                elif shortest > end_p - start_p+1 :\n",
        "                    shortest = end_p - start_p+1\n",
        "                    answer = [start_p, end_p]\n",
        "                    break\n",
        "                    \n",
        "                else:\n",
        "                    break\n",
        "        \n",
        "        end_p +=1\n",
        "    \n",
        "    return answer"
      ],
      "execution_count": null,
      "outputs": []
    }
  ]
}