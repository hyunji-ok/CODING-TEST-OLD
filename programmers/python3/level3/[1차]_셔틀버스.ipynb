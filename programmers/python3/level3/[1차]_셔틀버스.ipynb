{
  "nbformat": 4,
  "nbformat_minor": 0,
  "metadata": {
    "colab": {
      "name": "[1차] 셔틀버스.ipynb",
      "private_outputs": true,
      "provenance": [],
      "collapsed_sections": [],
      "authorship_tag": "ABX9TyOxgR12Dum2rqeU0iYoUMXQ",
      "include_colab_link": true
    },
    "kernelspec": {
      "name": "python3",
      "display_name": "Python 3"
    },
    "language_info": {
      "name": "python"
    }
  },
  "cells": [
    {
      "cell_type": "markdown",
      "metadata": {
        "id": "view-in-github",
        "colab_type": "text"
      },
      "source": [
        "<a href=\"https://colab.research.google.com/github/hyunji-ok/CODING-TEST/blob/master/programmers/python3/level3/%5B1%EC%B0%A8%5D_%EC%85%94%ED%8B%80%EB%B2%84%EC%8A%A4.ipynb\" target=\"_parent\"><img src=\"https://colab.research.google.com/assets/colab-badge.svg\" alt=\"Open In Colab\"/></a>"
      ]
    },
    {
      "cell_type": "code",
      "metadata": {
        "id": "jxFWaISCL5Kf"
      },
      "source": [
        "def solution(n, t, m, timetable):\n",
        "    answer = 0\n",
        "    timetable = [int(time[:2])*60 + int(time[3:]) for time in timetable]\n",
        "    timetable.sort()\n",
        "    bustime = [9*60 + t*i for i in range(n)]\n",
        "    \n",
        "    ind = 0\n",
        "    for bt in bustime:\n",
        "        buscrew = 0\n",
        "        while ind<len(timetable) and buscrew<m and timetable[ind]<=bt:\n",
        "            ind+=1\n",
        "            buscrew+=1\n",
        "        if buscrew<m:  \n",
        "            answer = bt\n",
        "        else:  \n",
        "            answer = timetable[ind-1]-1\n",
        "            \n",
        "    return str(answer//60).zfill(2)+\":\"+str(answer%60).zfill(2)\n",
        "    \n",
        "    return answer"
      ],
      "execution_count": null,
      "outputs": []
    }
  ]
}