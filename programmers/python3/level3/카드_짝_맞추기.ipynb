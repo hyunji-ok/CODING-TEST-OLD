{
  "nbformat": 4,
  "nbformat_minor": 0,
  "metadata": {
    "colab": {
      "name": "카드 짝 맞추기.ipynb",
      "private_outputs": true,
      "provenance": [],
      "collapsed_sections": [],
      "authorship_tag": "ABX9TyOSzOzGbZZgziMgmb1MzYI/",
      "include_colab_link": true
    },
    "kernelspec": {
      "name": "python3",
      "display_name": "Python 3"
    },
    "language_info": {
      "name": "python"
    }
  },
  "cells": [
    {
      "cell_type": "markdown",
      "metadata": {
        "id": "view-in-github",
        "colab_type": "text"
      },
      "source": [
        "<a href=\"https://colab.research.google.com/github/hyunji-ok/CODING-TEST/blob/master/programmers/python3/level3/%EC%B9%B4%EB%93%9C_%EC%A7%9D_%EB%A7%9E%EC%B6%94%EA%B8%B0.ipynb\" target=\"_parent\"><img src=\"https://colab.research.google.com/assets/colab-badge.svg\" alt=\"Open In Colab\"/></a>"
      ]
    },
    {
      "cell_type": "code",
      "metadata": {
        "id": "6zHmzEtjPQls"
      },
      "source": [
        "from collections import deque\n",
        "import copy\n",
        "\n",
        "d = [(1, 0), (-1, 0), (0, 1), (0, -1)]\n",
        "\n",
        "def end_game(b):\n",
        "    if b.count(\"0\") == 16:\n",
        "        return True\n",
        "    return False\n",
        "\n",
        "def remove_element(b, e):\n",
        "    b = b.replace(e, \"0\")\n",
        "    return b\n",
        "\n",
        "def move(b, y, x, dy, dx):\n",
        "    ny, nx = y + dy, x + dx\n",
        "    if ny >= 0 and ny < 4 and nx >= 0 and nx < 4 and b[ny * 4 + nx] == \"0\":\n",
        "        return move(b, ny, nx, dy, dx)\n",
        "    else:\n",
        "        if ny >= 0 and ny < 4 and nx >= 0 and nx < 4:\n",
        "            return (ny, nx)\n",
        "        else:\n",
        "            return (y, x)\n",
        "\n",
        "def solution(board, r, c):\n",
        "    answer = 0\n",
        "    b = \"\"\n",
        "    for i in range(4):\n",
        "        for j in range(4):\n",
        "            b += str(board[i][j])\n",
        "    q = deque([])\n",
        "\n",
        "    cnt = 0\n",
        "    enter = -1 # enter을 클릭했던 위치\n",
        "    q.append((r, c, b, cnt, enter))\n",
        "    s = set()\n",
        "\n",
        "    while q:\n",
        "        y, x, b, c, e = q.popleft()\n",
        "        pos = 4 * y + x\n",
        "\n",
        "        if (y, x, b, e) in s:\n",
        "            continue\n",
        "        s.add((y, x, b, e))\n",
        "\n",
        "        if end_game(b):\n",
        "            return c\n",
        "\n",
        "        # 4 방향 이동\n",
        "        for (dy, dx) in d:\n",
        "            ny, nx = y + dy, x + dx\n",
        "            if ny >= 0 and ny < 4 and nx >= 0 and nx < 4:\n",
        "                q.append((ny, nx, b, c+1, e))\n",
        "\n",
        "        # Ctrl + 4 방향 이동\n",
        "        for (dy, dx) in d:\n",
        "            ny, nx = move(b, y, x, dy, dx)\n",
        "            if ny == y and nx == x:\n",
        "                continue\n",
        "            q.append((ny, nx, b, c+1, e))\n",
        "\n",
        "        # enter를 하는 경우\n",
        "        if b[pos] != 0:\n",
        "            if e == -1:\n",
        "                n_e = pos\n",
        "                q.append((y, x, b, c+1, n_e))\n",
        "            else:\n",
        "                if e != pos and b[e] == b[pos]:\n",
        "                    b = remove_element(b, b[e])\n",
        "                    q.append((y, x, b, c+1, -1))\n",
        "\n",
        "    return answer"
      ],
      "execution_count": null,
      "outputs": []
    }
  ]
}