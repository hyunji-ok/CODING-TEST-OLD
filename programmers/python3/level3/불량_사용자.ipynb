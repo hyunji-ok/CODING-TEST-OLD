{
  "nbformat": 4,
  "nbformat_minor": 0,
  "metadata": {
    "colab": {
      "name": "불량 사용자.ipynb",
      "private_outputs": true,
      "provenance": [],
      "collapsed_sections": [],
      "authorship_tag": "ABX9TyPT+Zg5GbO3/ZNao5xc8N1A",
      "include_colab_link": true
    },
    "kernelspec": {
      "name": "python3",
      "display_name": "Python 3"
    },
    "language_info": {
      "name": "python"
    }
  },
  "cells": [
    {
      "cell_type": "markdown",
      "metadata": {
        "id": "view-in-github",
        "colab_type": "text"
      },
      "source": [
        "<a href=\"https://colab.research.google.com/github/hyunji-ok/CODING-TEST/blob/master/programmers/python3/level3/%EB%B6%88%EB%9F%89_%EC%82%AC%EC%9A%A9%EC%9E%90.ipynb\" target=\"_parent\"><img src=\"https://colab.research.google.com/assets/colab-badge.svg\" alt=\"Open In Colab\"/></a>"
      ]
    },
    {
      "cell_type": "code",
      "metadata": {
        "id": "O-_8PBH9TGDB"
      },
      "source": [
        "from itertools import permutations\n",
        "\n",
        "def check(candi, banned_id):\n",
        "    for candi_element,banned_element in zip(candi, banned_id):\n",
        "        if len(candi_element) != len(banned_element):\n",
        "            return False\n",
        "        for k in range(len(candi_element)):\n",
        "            if banned_element[k] == \"*\":\n",
        "                pass\n",
        "            elif candi_element[k] != banned_element[k]:\n",
        "                return False\n",
        "    return True\n",
        "\n",
        "def solution(user_id, banned_id):\n",
        "    answer = []\n",
        "    candi_li = list(permutations(user_id, len(banned_id)))\n",
        "    \n",
        "    for candi in candi_li:\n",
        "        if check(candi, banned_id):\n",
        "            candi = set(candi)\n",
        "            if candi not in answer:\n",
        "                answer.append(candi)\n",
        "    \n",
        "    return len(answer)"
      ],
      "execution_count": null,
      "outputs": []
    }
  ]
}