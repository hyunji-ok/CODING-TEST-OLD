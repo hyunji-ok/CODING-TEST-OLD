{
  "nbformat": 4,
  "nbformat_minor": 0,
  "metadata": {
    "colab": {
      "name": "구슬 탈출 2.ipynb",
      "provenance": [],
      "collapsed_sections": [],
      "authorship_tag": "ABX9TyPvLxHR0AA//0d1RAJBD77Y",
      "include_colab_link": true
    },
    "kernelspec": {
      "name": "python3",
      "display_name": "Python 3"
    },
    "language_info": {
      "name": "python"
    }
  },
  "cells": [
    {
      "cell_type": "markdown",
      "metadata": {
        "id": "view-in-github",
        "colab_type": "text"
      },
      "source": [
        "<a href=\"https://colab.research.google.com/github/hyunji-ok/CODING-TEST/blob/master/baekjoon/python3/%EA%B5%AC%EC%8A%AC_%ED%83%88%EC%B6%9C_2.ipynb\" target=\"_parent\"><img src=\"https://colab.research.google.com/assets/colab-badge.svg\" alt=\"Open In Colab\"/></a>"
      ]
    },
    {
      "cell_type": "code",
      "metadata": {
        "id": "nJKuOa-GpbOy"
      },
      "source": [
        "from sys import stdin\n",
        "from collections import deque\n",
        "\n",
        "input = stdin.readline\n",
        "\n",
        "n, m = map(int, input().split())\n",
        "board = [list(input().strip()) for _ in range(n)]\n",
        "visited = [[[[False]*m for _ in range(n)] for _ in range(m)] for _ in range(n)]\n",
        "dx, dy = (-1, 0, 1, 0), (0, 1, 0, -1)\n",
        "q = deque()\n",
        "\n",
        "def init():\n",
        "    rx, ry, bx, by = [0] * 4 # 초기화 0, 0, 0, 0\n",
        "    for i in range(n):\n",
        "        for j in range(m):\n",
        "            if board[i][j] == 'R': # board에 빨간 구슬이라면 좌표 값 저장\n",
        "                rx, ry = i, j\n",
        "            elif board[i][j] == 'B': # board에 파란 구슬이라면 좌표 값 저장\n",
        "                bx, by = i, j\n",
        "    q.append((rx, ry, bx, by, 1)) # 위치 정보와 depth\n",
        "    visited[rx][ry][bx][by] = True\n",
        "    \n",
        "def move(x, y, dx, dy):\n",
        "    count = 0 # 이동한 칸 수 \n",
        "    # 다음 이동이 벽이거나 구멍이 아닐 때까지\n",
        "    while board[x+dx][y+dy] != '#' and board[x][y] != 'O':\n",
        "        x += dx\n",
        "        y += dy\n",
        "        count += 1\n",
        "    return x, y, count\n",
        "\n",
        "\n",
        "def bfs():\n",
        "    init()\n",
        "    while q: # BFS -> queue, while\n",
        "        rx, ry, bx, by, depth = q.popleft() # FIFO\n",
        "        if depth > 10: # 10 이하여야 한다.\n",
        "            break\n",
        "        for i in range(len(dx)): # 4방향으로 시도한다.\n",
        "            next_rx, next_ry, r_count = move(rx, ry, dx[i], dy[i]) # RED\n",
        "            next_bx, next_by, b_count = move(bx, by, dx[i], dy[i]) # BLUE\n",
        "                        \n",
        "            if board[next_bx][next_by] == 'O': # 파란 구슬이 구멍에 떨어지지 않으면(실패 X)\n",
        "                continue\n",
        "            if board[next_rx][next_ry] == 'O': # 빨간 구슬이 구멍에 떨어진다면(성공)\n",
        "                print(depth)\n",
        "                return\n",
        "            if next_rx == next_bx and next_ry == next_by : # 빨간 구슬과 파란 구슬이 동시에 같은 칸에 있을 수 없다.\n",
        "                if r_count > b_count: # 이동 거리가 많은 구슬을 한칸 뒤로\n",
        "                    next_rx -= dx[i]\n",
        "                    next_ry -= dy[i]\n",
        "                else:\n",
        "                    next_bx -= dx[i]\n",
        "                    next_by -= dy[i]\n",
        "            # BFS 탐색을 마치고, 방문 여부 확인\n",
        "            if not visited[next_rx][next_ry][next_bx][next_by]:\n",
        "                visited[next_rx][next_ry][next_bx][next_by] = True\n",
        "                q.append((next_rx, next_ry, next_bx, next_by, depth +1))\n",
        "    print(-1) # 실패 \n",
        "\n",
        "bfs()"
      ],
      "execution_count": null,
      "outputs": []
    }
  ]
}